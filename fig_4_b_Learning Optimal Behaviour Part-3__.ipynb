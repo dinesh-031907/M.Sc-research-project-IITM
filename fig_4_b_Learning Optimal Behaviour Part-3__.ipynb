{
 "cells": [
  {
   "cell_type": "code",
   "execution_count": 1,
   "id": "f121eb58",
   "metadata": {},
   "outputs": [],
   "source": [
    "import numpy as np\n",
    "import matplotlib.pyplot as plt"
   ]
  },
  {
   "cell_type": "code",
   "execution_count": 2,
   "id": "95cc9f0f",
   "metadata": {},
   "outputs": [],
   "source": [
    "Q_matrix = np.array([[50142.56239554, 50478.20531291],\n",
    "       [50224.41728942, 50469.54698253],\n",
    "       [51979.4484728 , 52185.60337894],\n",
    "       [54380.91595989, 54597.62247261],\n",
    "       [55988.71238238, 55851.73566667]])"
   ]
  },
  {
   "cell_type": "code",
   "execution_count": 3,
   "id": "e560384a",
   "metadata": {},
   "outputs": [],
   "source": [
    "L = 50\n",
    "L_half = L/2\n",
    "a = 1.66"
   ]
  },
  {
   "cell_type": "code",
   "execution_count": 4,
   "id": "0df3da8e",
   "metadata": {},
   "outputs": [],
   "source": [
    "A = (50**2 - (np.pi*(1.66**2)))\n",
    "D0 = 1\n",
    "tau = 1.10688**2/(3*D0)\n",
    "dt = 0.01\n",
    "T = 100\n",
    "steps = int(T/dt)\n",
    "tot_states = 5\n",
    "tot_actions = 2"
   ]
  },
  {
   "cell_type": "code",
   "execution_count": 5,
   "id": "d3ae6d31",
   "metadata": {},
   "outputs": [],
   "source": [
    "bin_size = L/(2*tot_states)\n",
    "bin_ranges = np.linspace(0, L/2, tot_states+1)"
   ]
  },
  {
   "cell_type": "code",
   "execution_count": 6,
   "id": "7904472f",
   "metadata": {},
   "outputs": [],
   "source": [
    "def dist_to_state(r):\n",
    "    return np.minimum((r//bin_size).astype(int), tot_states-1)"
   ]
  },
  {
   "cell_type": "code",
   "execution_count": 7,
   "id": "af7892d9",
   "metadata": {},
   "outputs": [],
   "source": [
    "rho_arr = np.array([0.2,0.4])\n",
    "v_arr = np.linspace(0,20,45)\n",
    "J_hist = np.zeros(len(v_arr))"
   ]
  },
  {
   "cell_type": "code",
   "execution_count": 8,
   "id": "0b57ae83",
   "metadata": {},
   "outputs": [],
   "source": [
    "dict_ = {'0.2' : [] , '0.4' : []}"
   ]
  },
  {
   "cell_type": "code",
   "execution_count": null,
   "id": "7b2ea03b",
   "metadata": {},
   "outputs": [],
   "source": []
  },
  {
   "cell_type": "code",
   "execution_count": 9,
   "id": "4d0bf449",
   "metadata": {},
   "outputs": [],
   "source": [
    "for rho in rho_arr:\n",
    "    '''\n",
    "    Now we have to plot J vs V at two global densities\n",
    "    \n",
    "    dict_ = {rho : [J_values]}\n",
    "    \n",
    "    len_of_J_values = len(v_list)\n",
    "    \n",
    "    for rho in rho_list:\n",
    "    \n",
    "        for v in v_list\n",
    "            \n",
    "            initialize J = 0\n",
    "            initialize_positions\n",
    "            \n",
    "            \n",
    "            for step in range(int(T/dt)):\n",
    "                \n",
    "                update position as before\n",
    "                \n",
    "                if some 'num' values of particles go within absorbing radius\n",
    "                then add them to J\n",
    "                plot\n",
    "                then modify using boundary condn and randomize the particle \n",
    "                that enters absorbing region\n",
    "                \n",
    "            J/=T\n",
    "            \n",
    "            append_to_rho_values in dict_\n",
    "            \n",
    "            \n",
    "            \n",
    "    \n",
    "    '''\n",
    "    N_new = int(rho*(A))\n",
    "\n",
    "    for v0 in v_arr:\n",
    "        J_ = 0\n",
    "            \n",
    "        pos = (np.random.rand(N_new,2) - 0.5)*L\n",
    "        phi = np.random.rand(N_new) * 2*np.pi\n",
    "    \n",
    "        for step in range(steps):\n",
    "            \n",
    "            r = np.linalg.norm(pos,axis = 1)\n",
    "            s = dist_to_state(r)\n",
    "\n",
    "            best = np.argmax(Q_matrix[s] , axis = 1)\n",
    "            phi += np.sqrt(2*dt/tau)*np.random.randn(N_new)\n",
    "            \n",
    "            direction_vectors = np.vstack((np.cos(phi) , np.sin(phi))).T\n",
    "            v = direction_vectors * best[:,None] * v0\n",
    "            \n",
    "            pos += v*dt + np.sqrt(2*D0*dt)*np.random.randn(N_new,2)\n",
    "            pos = ((pos + L/2) % L) - L/2\n",
    "        \n",
    "            r = np.linalg.norm(pos, axis=1)\n",
    "            close_indices = np.where(r < a)[0]\n",
    "\n",
    "            n_reset = len(close_indices)\n",
    "            \n",
    "            J_+=n_reset\n",
    "        \n",
    "            while n_reset > 0:\n",
    "            \n",
    "                new_pos = (np.random.rand(n_reset, 2) - 0.5) * L\n",
    "                new_phi = np.random.rand(n_reset) * 2 * np.pi\n",
    "\n",
    "                pos[close_indices] = new_pos\n",
    "                phi[close_indices] = new_phi\n",
    "            \n",
    "                r = np.linalg.norm(pos, axis=1)\n",
    "            \n",
    "                close_indices = np.where(r < a)[0]\n",
    "\n",
    "                n_reset = len(close_indices)\n",
    "            \n",
    "        J_/=T\n",
    "        dict_[str(rho)].append(J_/rho)\n",
    "        "
   ]
  },
  {
   "cell_type": "code",
   "execution_count": 10,
   "id": "9e45d477",
   "metadata": {},
   "outputs": [
    {
     "name": "stdout",
     "output_type": "stream",
     "text": [
      "[3.85, 4.0, 4.0, 4.699999999999999, 4.65, 6.1, 5.3, 5.3, 5.749999999999999, 6.3999999999999995, 7.85, 8.799999999999999, 8.299999999999999, 10.149999999999999, 9.15, 10.45, 10.5, 11.45, 11.25, 10.349999999999998, 11.499999999999998, 11.499999999999998, 11.299999999999999, 11.95, 12.9, 12.6, 13.3, 13.35, 11.7, 12.849999999999998, 12.399999999999999, 13.85, 12.399999999999999, 13.1, 12.649999999999999, 13.75, 12.5, 13.45, 13.649999999999999, 12.95, 13.3, 14.15, 13.85, 14.950000000000001, 14.049999999999999]\n",
      "[3.55, 3.75, 4.1, 4.5249999999999995, 5.124999999999999, 4.749999999999999, 5.625, 6.8500000000000005, 7.125, 7.925, 8.924999999999999, 7.925, 9.174999999999999, 9.549999999999999, 9.899999999999999, 10.375, 10.674999999999999, 10.325, 10.424999999999999, 10.5, 11.174999999999999, 12.325, 11.674999999999999, 12.024999999999999, 12.075, 12.35, 12.475, 11.999999999999998, 12.475, 13.0, 12.875, 14.25, 13.5, 12.95, 13.799999999999999, 13.35, 12.95, 13.85, 14.125, 13.575, 12.375, 13.649999999999999, 13.549999999999999, 13.725, 13.4]\n"
     ]
    }
   ],
   "source": [
    "print(dict_['0.2'])\n",
    "print(dict_['0.4'])"
   ]
  },
  {
   "cell_type": "code",
   "execution_count": 14,
   "id": "41ffcfea",
   "metadata": {},
   "outputs": [
    {
     "data": {
      "text/plain": [
       "<matplotlib.legend.Legend at 0x7eabcdae29e0>"
      ]
     },
     "execution_count": 14,
     "metadata": {},
     "output_type": "execute_result"
    },
    {
     "data": {
      "image/png": "[encoded data removed]",
      "text/plain": [
       "<Figure size 640x480 with 1 Axes>"
      ]
     },
     "metadata": {},
     "output_type": "display_data"
    }
   ],
   "source": [
    "plt.plot(v_arr , dict_['0.2'],label = 'rho = 0.2' , linestyle = '--')\n",
    "plt.plot(v_arr , dict_['0.4'],label = 'rho = 0.4' , linestyle = '--')\n",
    "plt.xlabel('r')\n",
    "plt.ylabel('-J/(D0*rho)')\n",
    "plt.legend()"
   ]
  },
  {
   "cell_type": "code",
   "execution_count": 15,
   "id": "4fc46038",
   "metadata": {},
   "outputs": [
    {
     "data": {
      "text/plain": [
       "3.85"
      ]
     },
     "execution_count": 15,
     "metadata": {},
     "output_type": "execute_result"
    }
   ],
   "source": [
    "min(dict_['0.2'])"
   ]
  },
  {
   "cell_type": "code",
   "execution_count": 16,
   "id": "b8592efa",
   "metadata": {},
   "outputs": [
    {
     "data": {
      "text/plain": [
       "3.55"
      ]
     },
     "execution_count": 16,
     "metadata": {},
     "output_type": "execute_result"
    }
   ],
   "source": [
    "min(dict_['0.4'])"
   ]
  },
  {
   "cell_type": "code",
   "execution_count": null,
   "id": "4939eed7-fb9b-495e-84a9-e659880d6295",
   "metadata": {},
   "outputs": [],
   "source": []
  }
 ],
 "metadata": {
  "kernelspec": {
   "display_name": "Python 3 (ipykernel)",
   "language": "python",
   "name": "python3"
  },
  "language_info": {
   "codemirror_mode": {
    "name": "ipython",
    "version": 3
   },
   "file_extension": ".py",
   "mimetype": "text/x-python",
   "name": "python",
   "nbconvert_exporter": "python",
   "pygments_lexer": "ipython3",
   "version": "3.10.9"
  }
 },
 "nbformat": 4,
 "nbformat_minor": 5
}
