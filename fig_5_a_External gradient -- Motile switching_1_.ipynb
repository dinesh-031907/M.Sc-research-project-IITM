{
 "cells": [
  {
   "cell_type": "code",
   "execution_count": 1,
   "id": "7b032b3e-60d7-4820-bd6a-96eaa9d0cb63",
   "metadata": {},
   "outputs": [],
   "source": [
    "import numpy as np\n",
    "import matplotlib.pyplot as plt"
   ]
  },
  {
   "cell_type": "code",
   "execution_count": 2,
   "id": "87f2ad2a-b631-4c9d-b41b-a465dc09e376",
   "metadata": {},
   "outputs": [],
   "source": [
    "N = 50\n",
    "L = 150\n",
    "dt = 0.01\n",
    "T = 100\n",
    "lambda_ = 10\n",
    "num_states = 2\n",
    "num_actions = 2\n",
    "v0 = 20"
   ]
  },
  {
   "cell_type": "code",
   "execution_count": 3,
   "id": "1178da8b-a96f-4c8b-b6ba-5a7fe0755e7b",
   "metadata": {},
   "outputs": [],
   "source": [
    "episodes = 1000\n",
    "learning_steps = 20\n",
    "pred_pos = np.array([0.0,0.0])\n",
    "time_steps = 10_000 # int(T/dt)\n",
    "epsilon_0 = 0.995\n",
    "alpha_0 = 0.8\n",
    "gamma = 0.99\n",
    "D0 = 1\n",
    "tau_r = (1.10688**2)/(3*D0)"
   ]
  },
  {
   "cell_type": "code",
   "execution_count": 4,
   "id": "ae4d34fe-b550-4d4a-83eb-6d1c80c1c879",
   "metadata": {},
   "outputs": [],
   "source": [
    "Q_matrix = np.ones((num_states , num_actions))"
   ]
  },
  {
   "cell_type": "code",
   "execution_count": 5,
   "id": "77328765-3e64-4c49-bc47-95bf0976a0f6",
   "metadata": {},
   "outputs": [
    {
     "data": {
      "text/plain": [
       "array([[1., 1.],\n",
       "       [1., 1.]])"
      ]
     },
     "execution_count": 5,
     "metadata": {},
     "output_type": "execute_result"
    }
   ],
   "source": [
    "Q_matrix"
   ]
  },
  {
   "cell_type": "markdown",
   "id": "0fdff2c3-718a-4db7-ab56-8257941857a8",
   "metadata": {},
   "source": [
    "# States -- Rows\n",
    "\n",
    "### 0 - dot_prod is positive ---> towards\n",
    "### 1 - dot_prod is negative ---> away from\n",
    "\n",
    "\n",
    "# Actions -- Columns\n",
    "\n",
    "### 0 - passive (v=0)\n",
    "### 1 - active (v=v0)"
   ]
  },
  {
   "cell_type": "code",
   "execution_count": 6,
   "id": "97f89c7e-e151-4f8e-836a-03b1fc27d81c",
   "metadata": {},
   "outputs": [],
   "source": [
    "import numpy as np\n",
    "\n",
    "def direction_dot_sign(pos, alpha):\n",
    "    \n",
    "    v = np.column_stack((np.cos(alpha), np.sin(alpha)))  # shape (N, 2)\n",
    "    to_origin = -pos  \n",
    "    dots = np.einsum('ij,ij->i', v, to_origin)  \n",
    "    \n",
    "    return (dots > 0).astype(int)\n"
   ]
  },
  {
   "cell_type": "code",
   "execution_count": 7,
   "id": "bb724924-1c3c-45c0-a343-ac7d8688eb85",
   "metadata": {
    "scrolled": true
   },
   "outputs": [
    {
     "name": "stdout",
     "output_type": "stream",
     "text": [
      "0\n",
      "10\n",
      "20\n",
      "30\n",
      "40\n",
      "50\n",
      "60\n",
      "70\n",
      "80\n",
      "90\n",
      "100\n",
      "110\n",
      "120\n",
      "130\n",
      "140\n",
      "150\n",
      "160\n",
      "170\n",
      "180\n",
      "190\n",
      "200\n",
      "210\n",
      "220\n",
      "230\n",
      "240\n",
      "250\n",
      "260\n",
      "270\n",
      "280\n",
      "290\n",
      "300\n",
      "310\n",
      "320\n",
      "330\n",
      "340\n",
      "350\n",
      "360\n",
      "370\n",
      "380\n",
      "390\n",
      "400\n",
      "410\n",
      "420\n",
      "430\n",
      "440\n",
      "450\n",
      "460\n",
      "470\n",
      "480\n",
      "490\n",
      "500\n",
      "510\n",
      "520\n",
      "530\n",
      "540\n",
      "550\n",
      "560\n",
      "570\n",
      "580\n",
      "590\n",
      "600\n",
      "610\n",
      "620\n",
      "630\n",
      "640\n",
      "650\n",
      "660\n",
      "670\n",
      "680\n",
      "690\n",
      "700\n",
      "710\n",
      "720\n",
      "730\n",
      "740\n",
      "750\n",
      "760\n",
      "770\n",
      "780\n",
      "790\n",
      "800\n",
      "810\n",
      "820\n",
      "830\n",
      "840\n",
      "850\n",
      "860\n",
      "870\n",
      "880\n",
      "890\n",
      "900\n",
      "910\n",
      "920\n",
      "930\n",
      "940\n",
      "950\n",
      "960\n",
      "970\n",
      "980\n",
      "990\n"
     ]
    }
   ],
   "source": [
    "for ep in range(episodes):\n",
    "    alpha = alpha_0 / (alpha_0 + ep)\n",
    "    epsilon = epsilon_0**ep\n",
    "\n",
    "    pos_ = (np.random.rand(N,2) - 0.5) * L\n",
    "    phi_ = np.random.rand(N) * 2 * np.pi\n",
    "\n",
    "    for step in range(learning_steps):\n",
    "\n",
    "        states_s0 = direction_dot_sign(pos_ , phi_)\n",
    "\n",
    "        best = np.argmax(Q_matrix[states_s0] , axis = 1)\n",
    "        rand = np.random.rand(N)\n",
    "        a = np.where(rand < (1-epsilon) , best , np.random.randint(0,2,N))\n",
    "\n",
    "        for _ in range(time_steps):\n",
    "\n",
    "            phi_ += np.sqrt(2*dt/tau_r) * (np.random.randn(N))\n",
    "            direction_vectors = np.vstack((np.cos(phi_) , np.sin(phi_))).T\n",
    "            \n",
    "            v = direction_vectors * a[:,None] * v0\n",
    "            \n",
    "            pos_ += v*dt + np.sqrt(2*D0*dt)*np.random.randn(N,2)\n",
    "            pos_ = ((pos_ + L/2) % L) - L/2\n",
    "\n",
    "        states_s1 = direction_dot_sign(pos_ , phi_)\n",
    "        r2 = np.sum(pos_**2,axis = 1)\n",
    "        reward = r2.copy()\n",
    "        q_matrix_max = Q_matrix[states_s1].max(axis = 1)\n",
    "        \n",
    "        for i in range(N):\n",
    "            Q_matrix[states_s0[i] , a[i]] += alpha * (reward[i] + gamma * (q_matrix_max[i]) - Q_matrix[states_s0[i] , a[i]])\n",
    "    if ep%10 == 0:\n",
    "        print(ep)"
   ]
  },
  {
   "cell_type": "code",
   "execution_count": 8,
   "id": "255e2d20-d9ff-4115-b4ca-5fea4db71cc0",
   "metadata": {},
   "outputs": [
    {
     "data": {
      "text/plain": [
       "array([[375807.40155219, 375776.80051124],\n",
       "       [375703.20544373, 375739.40069885]])"
      ]
     },
     "execution_count": 8,
     "metadata": {},
     "output_type": "execute_result"
    }
   ],
   "source": [
    "Q_matrix"
   ]
  },
  {
   "cell_type": "code",
   "execution_count": 9,
   "id": "821ddc74",
   "metadata": {},
   "outputs": [],
   "source": [
    "state_0 = Q_matrix[0]\n",
    "state_1 = Q_matrix[1]"
   ]
  },
  {
   "cell_type": "code",
   "execution_count": 10,
   "id": "bd60613a",
   "metadata": {},
   "outputs": [
    {
     "name": "stdout",
     "output_type": "stream",
     "text": [
      "State :  0 ; Corresponding action : 0\n",
      "State :  1 ; Corresponding action : 1\n"
     ]
    }
   ],
   "source": [
    "for state,i in zip(Q_matrix,range(2)):\n",
    "    print('State : ', i ,'; Corresponding action :',np.argmax(state))"
   ]
  },
  {
   "cell_type": "markdown",
   "id": "57a88cff",
   "metadata": {},
   "source": [
    "# States -- Rows\n",
    "\n",
    "### 0 - dot_prod is positive ---> towards\n",
    "### 1 - dot_prod is negative ---> away from\n",
    "\n",
    "\n",
    "# Actions -- Columns\n",
    "\n",
    "### 0 - passive (v=0)\n",
    "### 1 - active (v=v0)"
   ]
  },
  {
   "cell_type": "code",
   "execution_count": null,
   "id": "004fcd12",
   "metadata": {},
   "outputs": [],
   "source": []
  },
  {
   "cell_type": "code",
   "execution_count": null,
   "id": "28ac8979",
   "metadata": {},
   "outputs": [],
   "source": []
  },
  {
   "cell_type": "code",
   "execution_count": null,
   "id": "5069f767",
   "metadata": {},
   "outputs": [],
   "source": []
  }
 ],
 "metadata": {
  "kernelspec": {
   "display_name": "Python 3 (ipykernel)",
   "language": "python",
   "name": "python3"
  },
  "language_info": {
   "codemirror_mode": {
    "name": "ipython",
    "version": 3
   },
   "file_extension": ".py",
   "mimetype": "text/x-python",
   "name": "python",
   "nbconvert_exporter": "python",
   "pygments_lexer": "ipython3",
   "version": "3.10.9"
  }
 },
 "nbformat": 4,
 "nbformat_minor": 5
}
