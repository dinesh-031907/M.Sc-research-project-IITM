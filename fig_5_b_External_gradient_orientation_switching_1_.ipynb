{
 "cells": [
  {
   "cell_type": "code",
   "execution_count": 1,
   "id": "e89a88eb",
   "metadata": {},
   "outputs": [],
   "source": [
    "import numpy as np\n",
    "import matplotlib.pyplot as plt"
   ]
  },
  {
   "cell_type": "code",
   "execution_count": 2,
   "id": "c2398b6f",
   "metadata": {},
   "outputs": [],
   "source": [
    "N = 50\n",
    "L = 150\n",
    "dt = 0.01\n",
    "T = 100\n",
    "num_states = 2\n",
    "num_actions = 2\n",
    "v0 = 20\n",
    "w0 = 13.3"
   ]
  },
  {
   "cell_type": "code",
   "execution_count": 3,
   "id": "94405e72",
   "metadata": {},
   "outputs": [],
   "source": [
    "episodes = 1000\n",
    "learning_steps = 20\n",
    "pred_pos = np.array([0.0,0.0])\n",
    "time_steps = 10_000 # int(T/dt)\n",
    "epsilon_0 = 0.995\n",
    "alpha_0 = 0.8\n",
    "gamma = 0.99\n",
    "D0 = 1\n",
    "tau_r = (1.10688**2)/(3*D0)"
   ]
  },
  {
   "cell_type": "code",
   "execution_count": 4,
   "id": "6de3a828",
   "metadata": {},
   "outputs": [],
   "source": [
    "Q_matrix = np.ones((num_states , num_actions))"
   ]
  },
  {
   "cell_type": "code",
   "execution_count": 5,
   "id": "16f01f4d",
   "metadata": {},
   "outputs": [
    {
     "data": {
      "text/plain": [
       "array([[1., 1.],\n",
       "       [1., 1.]])"
      ]
     },
     "execution_count": 5,
     "metadata": {},
     "output_type": "execute_result"
    }
   ],
   "source": [
    "Q_matrix"
   ]
  },
  {
   "cell_type": "markdown",
   "id": "2ec18536",
   "metadata": {},
   "source": [
    "# States -- Rows\n",
    "\n",
    "### 0 - cross_prod is positive ---> predator is at left to particle\n",
    "### 1 - cross_prod is negative ---> predator is at right to particle\n",
    "\n",
    "\n",
    "# Actions -- Columns\n",
    "\n",
    "### 0 - (+w0) - turn left\n",
    "### 1 - (-w0) - turn right"
   ]
  },
  {
   "cell_type": "code",
   "execution_count": 6,
   "id": "b781a507",
   "metadata": {},
   "outputs": [],
   "source": [
    "def cross_sign_from_orientation_and_position(positions, phi):\n",
    "    phi = phi.flatten()\n",
    "\n",
    "    positions = -positions\n",
    "    \n",
    "    cos_phi = np.cos(phi)\n",
    "    sin_phi = np.sin(phi)\n",
    "\n",
    "    x = positions[:, 0]\n",
    "    y = positions[:, 1]\n",
    "\n",
    "    cross = cos_phi * y - sin_phi * x\n",
    "\n",
    "    return (cross <= 0).astype(int)\n",
    "\n",
    "\n",
    "# 0 - left is predator\n",
    "# 1 - right is predator"
   ]
  },
  {
   "cell_type": "code",
   "execution_count": 7,
   "id": "370da547",
   "metadata": {
    "collapsed": true,
    "jupyter": {
     "outputs_hidden": true
    }
   },
   "outputs": [
    {
     "name": "stdout",
     "output_type": "stream",
     "text": [
      "0\n",
      "10\n",
      "20\n",
      "30\n",
      "40\n",
      "50\n",
      "60\n",
      "70\n",
      "80\n",
      "90\n",
      "100\n",
      "110\n",
      "120\n",
      "130\n",
      "140\n",
      "150\n",
      "160\n",
      "170\n",
      "180\n",
      "190\n",
      "200\n",
      "210\n",
      "220\n",
      "230\n",
      "240\n",
      "250\n",
      "260\n",
      "270\n",
      "280\n",
      "290\n",
      "300\n",
      "310\n",
      "320\n",
      "330\n",
      "340\n",
      "350\n",
      "360\n",
      "370\n",
      "380\n",
      "390\n",
      "400\n",
      "410\n",
      "420\n",
      "430\n",
      "440\n",
      "450\n",
      "460\n",
      "470\n",
      "480\n",
      "490\n",
      "500\n",
      "510\n",
      "520\n",
      "530\n",
      "540\n",
      "550\n",
      "560\n",
      "570\n",
      "580\n",
      "590\n",
      "600\n",
      "610\n",
      "620\n",
      "630\n",
      "640\n",
      "650\n",
      "660\n",
      "670\n",
      "680\n",
      "690\n",
      "700\n",
      "710\n",
      "720\n",
      "730\n",
      "740\n",
      "750\n",
      "760\n",
      "770\n",
      "780\n",
      "790\n",
      "800\n",
      "810\n",
      "820\n",
      "830\n",
      "840\n",
      "850\n",
      "860\n",
      "870\n",
      "880\n",
      "890\n",
      "900\n",
      "910\n",
      "920\n",
      "930\n",
      "940\n",
      "950\n",
      "960\n",
      "970\n",
      "980\n",
      "990\n"
     ]
    }
   ],
   "source": [
    "for ep in range(episodes):\n",
    "    \n",
    "    alpha = alpha_0 / (alpha_0 + ep)\n",
    "    epsilon = epsilon_0**ep\n",
    "\n",
    "    pos_ = (np.random.rand(N,2) - 0.5) * L\n",
    "    phi_ = np.random.rand(N) * 2 * np.pi\n",
    "\n",
    "    for step in range(learning_steps):\n",
    "\n",
    "        states_s0 = cross_sign_from_orientation_and_position(pos_ , phi_)\n",
    "\n",
    "        best = np.argmax(Q_matrix[states_s0] , axis = 1)\n",
    "        rand = np.random.rand(N)\n",
    "        a = np.where(rand < (1-epsilon) , best , np.random.randint(0,2,N))\n",
    "                \n",
    "        ws = np.where(a==0 , w0 , -w0)\n",
    "\n",
    "        for _ in range(time_steps):\n",
    "\n",
    "            phi_ += (np.sqrt(2*dt/tau_r) * (np.random.randn(N)) + ws*dt)\n",
    "            direction_vectors = np.vstack((np.cos(phi_) , np.sin(phi_))).T\n",
    "            \n",
    "            v = direction_vectors * v0\n",
    "            \n",
    "            pos_ += v*dt + np.sqrt(2*D0*dt)*np.random.randn(N,2)\n",
    "            pos_ = ((pos_ + L/2) % L) - L/2\n",
    "\n",
    "        states_s1 = cross_sign_from_orientation_and_position(pos_ , phi_)\n",
    "        r2 = np.sum(pos_**2,axis = 1)\n",
    "        reward = r2.copy()\n",
    "        q_matrix_max = Q_matrix[states_s1].max(axis = 1)\n",
    "        \n",
    "        for i in range(N):\n",
    "            Q_matrix[states_s0[i] , a[i]] += alpha * (reward[i] + gamma * (q_matrix_max[i]) - Q_matrix[states_s0[i] , a[i]])\n",
    "    \n",
    "    if ep%10 == 0:\n",
    "        print(ep)"
   ]
  },
  {
   "cell_type": "code",
   "execution_count": 8,
   "id": "7f2109db",
   "metadata": {},
   "outputs": [],
   "source": [
    "a1 = Q_matrix[0].argmax()\n",
    "a2 = Q_matrix[1].argmax()"
   ]
  },
  {
   "cell_type": "code",
   "execution_count": 9,
   "id": "4d57ec8b",
   "metadata": {},
   "outputs": [
    {
     "data": {
      "text/plain": [
       "1"
      ]
     },
     "execution_count": 9,
     "metadata": {},
     "output_type": "execute_result"
    }
   ],
   "source": [
    "a1"
   ]
  },
  {
   "cell_type": "code",
   "execution_count": 10,
   "id": "547bcaf7",
   "metadata": {},
   "outputs": [
    {
     "data": {
      "text/plain": [
       "0"
      ]
     },
     "execution_count": 10,
     "metadata": {},
     "output_type": "execute_result"
    }
   ],
   "source": [
    "a2"
   ]
  },
  {
   "cell_type": "code",
   "execution_count": 11,
   "id": "3b7f5e7a",
   "metadata": {},
   "outputs": [
    {
     "data": {
      "text/plain": [
       "array([[382116.03486762, 382574.47616531],\n",
       "       [382572.22721697, 382138.61534273]])"
      ]
     },
     "execution_count": 11,
     "metadata": {},
     "output_type": "execute_result"
    }
   ],
   "source": [
    "Q_matrix"
   ]
  },
  {
   "cell_type": "code",
   "execution_count": null,
   "id": "14723c08",
   "metadata": {},
   "outputs": [],
   "source": []
  }
 ],
 "metadata": {
  "kernelspec": {
   "display_name": "Python 3 (ipykernel)",
   "language": "python",
   "name": "python3"
  },
  "language_info": {
   "codemirror_mode": {
    "name": "ipython",
    "version": 3
   },
   "file_extension": ".py",
   "mimetype": "text/x-python",
   "name": "python",
   "nbconvert_exporter": "python",
   "pygments_lexer": "ipython3",
   "version": "3.13.5"
  }
 },
 "nbformat": 4,
 "nbformat_minor": 5
}
