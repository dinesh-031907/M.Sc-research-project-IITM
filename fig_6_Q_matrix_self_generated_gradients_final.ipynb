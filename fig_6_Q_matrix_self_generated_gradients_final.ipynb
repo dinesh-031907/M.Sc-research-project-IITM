{
 "cells": [
  {
   "cell_type": "code",
   "execution_count": 1,
   "metadata": {
    "id": "qEoMyz1gvlUl"
   },
   "outputs": [],
   "source": [
    "import numpy as np\n",
    "import matplotlib.pyplot as plt\n",
    "import random"
   ]
  },
  {
   "cell_type": "markdown",
   "metadata": {
    "id": "v0dnWpKNwhD9"
   },
   "source": [
    "# We have to find Q - Matrix :\n",
    "# Then we need to apply it to other problems"
   ]
  },
  {
   "cell_type": "code",
   "execution_count": 3,
   "metadata": {
    "id": "dziGNzGxvp6n"
   },
   "outputs": [],
   "source": [
    "N = 50\n",
    "L = 40\n",
    "v0 = 20\n",
    "episodes = 1000\n",
    "learning_steps = 20\n",
    "Q = np.ones((2,2))\n",
    "gamma = 0.99\n",
    "alpha_0 = 0.8\n",
    "epsilon_0 = 0.995\n",
    "D0 = 1\n",
    "dt = 0.01\n",
    "w0 = 13.3\n",
    "tau_r = (1.10688**2) / (3*D0)\n",
    "sigma_eff = 1.10688"
   ]
  },
  {
   "cell_type": "code",
   "execution_count": 4,
   "metadata": {
    "colab": {
     "base_uri": "https://localhost:8080/"
    },
    "id": "ySS6wGsyvr8C",
    "outputId": "7674985e-0e0a-4f5b-8b47-f8052f362698"
   },
   "outputs": [
    {
     "data": {
      "text/plain": [
       "array([[1., 1.],\n",
       "       [1., 1.]])"
      ]
     },
     "execution_count": 4,
     "metadata": {},
     "output_type": "execute_result"
    }
   ],
   "source": [
    "Q"
   ]
  },
  {
   "cell_type": "markdown",
   "metadata": {
    "id": "fgqNmJ6_vytA"
   },
   "source": [
    "# Rows - states : grad position\n",
    "# Columns - actions : w0\n",
    "# ----------------------------------------\n",
    "\n",
    "* Row :\n",
    "\n",
    "   - 0 - concentration grad is to right of particle --- cross_prod = r * c = -\n",
    "\n",
    "   - 1 - concentration grad is to left of particle --- cross_prod = r * c = +\n",
    "\n",
    "\n",
    "* Column :\n",
    "\n",
    "   - 0 - turn right - (-w0)\n",
    "\n",
    "   - 1 - turn left  - (+w0)"
   ]
  },
  {
   "cell_type": "code",
   "execution_count": 5,
   "metadata": {
    "id": "RoVfySOYvzQ2"
   },
   "outputs": [],
   "source": [
    "# Reward for each particle is defined as the local concentration at the particle's location"
   ]
  },
  {
   "cell_type": "code",
   "execution_count": 6,
   "metadata": {
    "id": "9Ka1-a-vv3Y8"
   },
   "outputs": [],
   "source": [
    "# Hard sphere approximation :"
   ]
  },
  {
   "cell_type": "code",
   "execution_count": 7,
   "metadata": {
    "id": "nVNNhrM2v5IK"
   },
   "outputs": [],
   "source": [
    "def update_pos_phi_hardcore_periodic_box(pos, phi , omega , dt = dt , v0 = v0 ,D_t = D0 , D_r = tau_r , sigma_eff = sigma_eff , L = L):\n",
    "    N = pos.shape[0]\n",
    "\n",
    "    dphi = omega * dt + np.sqrt(2 * dt/ D_r) * np.random.randn(N)\n",
    "    phi_new = (phi + dphi) % (2 * np.pi)\n",
    "\n",
    "    direction = np.stack([np.cos(phi_new), np.sin(phi_new)], axis=1)\n",
    "    displacement = v0 * dt * direction\n",
    "    noise = np.sqrt(2 * D_t * dt) * np.random.randn(N, 2)\n",
    "    proposed = pos + displacement + noise\n",
    "\n",
    "    proposed = (proposed + L/2) % L - L/2\n",
    "\n",
    "    pos_new = pos.copy()\n",
    "    for i in range(N):\n",
    "        accept = True\n",
    "        for j in range(N):\n",
    "            if i == j:\n",
    "                continue\n",
    "            delta = proposed[i] - pos_new[j]\n",
    "            delta = delta - L * np.round(delta / L)\n",
    "            dist = np.linalg.norm(delta)\n",
    "            if dist < sigma_eff:\n",
    "                accept = False\n",
    "                break\n",
    "        if accept:\n",
    "            pos_new[i] = proposed[i]\n",
    "\n",
    "    return pos_new, phi_new\n"
   ]
  },
  {
   "cell_type": "code",
   "execution_count": 8,
   "metadata": {
    "id": "Rk2VR2c2v7PG"
   },
   "outputs": [],
   "source": [
    "# SPHERE TOUCHING APPROXIMATION :"
   ]
  },
  {
   "cell_type": "code",
   "execution_count": 9,
   "metadata": {
    "id": "L7r8MkEjv9JK"
   },
   "outputs": [],
   "source": [
    "def truncate_move_if_overlap(pos, disp, i, sigma_eff, L):\n",
    "    N = pos.shape[0]\n",
    "    max_lambda = 1.0\n",
    "    for j in range(N):\n",
    "        if i == j:\n",
    "            continue\n",
    "        rij = pos[j] - pos[i]\n",
    "        rij = rij - L * np.round(rij / L)\n",
    "        dist_sq = np.dot(rij, rij)\n",
    "        if dist_sq < 1e-12:\n",
    "            continue\n",
    "        dv = disp[i]\n",
    "        dv_sq = np.dot(dv, dv)\n",
    "        rij_dv = np.dot(rij, dv)\n",
    "        a = dv_sq\n",
    "        b = 2 * rij_dv\n",
    "        c = dist_sq - sigma_eff**2\n",
    "        disc = b**2 - 4*a*c\n",
    "        if disc < 0:\n",
    "            continue\n",
    "        sqrt_disc = np.sqrt(disc)\n",
    "        lam1 = (-b - sqrt_disc) / (2*a)\n",
    "        lam2 = (-b + sqrt_disc) / (2*a)\n",
    "        if 0 <= lam1 <= 1:\n",
    "            max_lambda = min(max_lambda, lam1)\n",
    "        elif 0 <= lam2 <= 1:\n",
    "            max_lambda = min(max_lambda, lam2)\n",
    "    return disp[i] * max_lambda\n",
    "\n",
    "def update_pos_phi_touching(pos, phi , omega , dt = dt , v0 = v0 ,D_t = D0 , D_r = tau_r , sigma_eff = sigma_eff , L = L):\n",
    "    N = pos.shape[0]\n",
    "    dphi = omega * dt + np.sqrt(2 * D_r * dt) * np.random.randn(N)\n",
    "    phi_new = (phi + dphi) % (2 * np.pi)\n",
    "    direction = np.stack([np.cos(phi_new), np.sin(phi_new)], axis=1)\n",
    "    active_disp = v0 * dt * direction\n",
    "    noise = np.sqrt(2 * D_t * dt) * np.random.randn(N, 2)\n",
    "    disp = active_disp + noise\n",
    "    pos_new = pos.copy()\n",
    "    for i in range(N):\n",
    "        new_disp = truncate_move_if_overlap(pos, disp, i, sigma_eff, L)\n",
    "        pos_new[i] = pos[i] + new_disp\n",
    "    pos_new = (pos_new + L/2) % L - L/2\n",
    "    return pos_new, phi_new"
   ]
  },
  {
   "cell_type": "code",
   "execution_count": 10,
   "metadata": {
    "id": "GfLl2gmIv-_e"
   },
   "outputs": [],
   "source": [
    "def compute_concentration_gradient(positions , lam = 10):\n",
    "    N = positions.shape[0]\n",
    "    grad = np.zeros((N, 2), dtype=float)\n",
    "\n",
    "    for k in range(N):\n",
    "        for i in range(N):\n",
    "            if i == k:\n",
    "                continue\n",
    "            r_vec = positions[k] - positions[i]\n",
    "            r = np.linalg.norm(r_vec)\n",
    "            if r > 0:\n",
    "                exp_term = np.exp(-r / lam) / (4*np.pi)\n",
    "                factor = exp_term * (-(1 + (r/lam)) / r**3)\n",
    "                grad[k] += factor * r_vec\n",
    "\n",
    "    return grad"
   ]
  },
  {
   "cell_type": "code",
   "execution_count": 11,
   "metadata": {
    "id": "kLexPyZ4wBBd"
   },
   "outputs": [],
   "source": [
    "def direction_gradient_cross_product(phi_ , grad):\n",
    "    dir_x = np.cos(phi_)\n",
    "    dir_y = np.sin(phi_)\n",
    "\n",
    "    grad_x = grad[: , 0]\n",
    "    grad_y = grad[: , 1]\n",
    "\n",
    "    cross_z = dir_x * grad_y - dir_y * grad_x\n",
    "\n",
    "    return (cross_z > 0).astype(int)"
   ]
  },
  {
   "cell_type": "code",
   "execution_count": 12,
   "metadata": {
    "colab": {
     "base_uri": "https://localhost:8080/"
    },
    "id": "fnCPRCdqwGWH",
    "outputId": "bced8c61-4b20-45cf-a500-5e5c7f869a02",
    "scrolled": true
   },
   "outputs": [
    {
     "name": "stdout",
     "output_type": "stream",
     "text": [
      "0\n",
      "[[3.41800554 3.25356473]\n",
      " [3.2564115  3.17467773]] --- Act { 0 0  }\n",
      "10\n",
      "[[9.82237355 9.82972862]\n",
      " [9.97663776 9.98492459]] --- Act { 1 1  }\n",
      "20\n",
      "[[11.02773552 11.02016265]\n",
      " [11.09197297 11.08197686]] --- Act { 0 0  }\n",
      "30\n",
      "[[11.25137841 11.25434703]\n",
      " [11.23696089 11.23061858]] --- Act { 1 0  }\n",
      "40\n",
      "[[11.33217343 11.33745805]\n",
      " [11.38782323 11.38717925]] --- Act { 1 0  }\n",
      "50\n",
      "[[11.39843    11.402806  ]\n",
      " [11.34592067 11.350415  ]] --- Act { 1 1  }\n",
      "60\n",
      "[[11.48954587 11.47274452]\n",
      " [11.52774889 11.53185988]] --- Act { 0 1  }\n",
      "70\n",
      "[[11.48383484 11.48081596]\n",
      " [11.48753412 11.48403443]] --- Act { 0 0  }\n",
      "80\n",
      "[[11.38867507 11.38976026]\n",
      " [11.43328843 11.44709039]] --- Act { 1 1  }\n",
      "90\n",
      "[[11.43964944 11.43108059]\n",
      " [11.44637612 11.45320629]] --- Act { 0 1  }\n",
      "100\n",
      "[[11.71071891 11.70701583]\n",
      " [11.68433929 11.68030433]] --- Act { 0 0  }\n",
      "110\n",
      "[[11.73592938 11.73262234]\n",
      " [11.69994568 11.68632934]] --- Act { 0 0  }\n",
      "120\n",
      "[[11.93986575 11.91871762]\n",
      " [11.87616542 11.90427655]] --- Act { 0 1  }\n",
      "130\n",
      "[[11.84216196 11.8219396 ]\n",
      " [11.83076538 11.84558233]] --- Act { 0 1  }\n",
      "140\n",
      "[[11.86218627 11.86131418]\n",
      " [11.82563585 11.82673605]] --- Act { 0 1  }\n",
      "150\n",
      "[[12.01168669 11.9851584 ]\n",
      " [12.01834954 12.01173436]] --- Act { 0 0  }\n",
      "160\n",
      "[[11.91911737 11.91336627]\n",
      " [11.86685794 11.89825338]] --- Act { 0 1  }\n",
      "170\n",
      "[[11.90481551 11.90502249]\n",
      " [11.89293579 11.89426406]] --- Act { 1 1  }\n",
      "180\n",
      "[[12.00123439 11.99035923]\n",
      " [12.01387738 12.03308359]] --- Act { 0 1  }\n",
      "190\n",
      "[[12.07489005 12.05455429]\n",
      " [12.09659987 12.12111866]] --- Act { 0 1  }\n",
      "200\n",
      "[[12.17729507 12.17765914]\n",
      " [12.14700014 12.14782071]] --- Act { 1 1  }\n",
      "210\n",
      "[[12.12956011 12.11419957]\n",
      " [12.07307724 12.07861567]] --- Act { 0 1  }\n",
      "220\n",
      "[[12.28909993 12.24026501]\n",
      " [12.23993256 12.28512016]] --- Act { 0 1  }\n",
      "230\n",
      "[[12.23718744 12.22259122]\n",
      " [12.25739361 12.24043226]] --- Act { 0 0  }\n",
      "240\n",
      "[[12.15916445 12.15990653]\n",
      " [12.20547568 12.2093178 ]] --- Act { 1 1  }\n",
      "250\n",
      "[[12.14464714 12.12243092]\n",
      " [12.13627292 12.14204593]] --- Act { 0 1  }\n",
      "260\n",
      "[[12.3592245  12.304162  ]\n",
      " [12.25658689 12.34820007]] --- Act { 0 1  }\n",
      "270\n",
      "[[12.43258664 12.4019913 ]\n",
      " [12.39842614 12.43100123]] --- Act { 0 1  }\n",
      "280\n",
      "[[12.54093651 12.48710497]\n",
      " [12.48899964 12.56584126]] --- Act { 0 1  }\n",
      "290\n",
      "[[12.59741316 12.57022293]\n",
      " [12.56498426 12.57975011]] --- Act { 0 1  }\n",
      "300\n",
      "[[12.66380313 12.63879769]\n",
      " [12.6416363  12.68056621]] --- Act { 0 1  }\n",
      "310\n",
      "[[12.76467097 12.70055911]\n",
      " [12.71006002 12.77144523]] --- Act { 0 1  }\n",
      "320\n",
      "[[12.88537124 12.81090767]\n",
      " [12.79996658 12.89479688]] --- Act { 0 1  }\n",
      "330\n",
      "[[12.95591925 12.90107765]\n",
      " [12.89449189 12.95123957]] --- Act { 0 1  }\n",
      "340\n",
      "[[12.96847176 12.9235951 ]\n",
      " [12.92004421 12.95840334]] --- Act { 0 1  }\n",
      "350\n",
      "[[13.01842744 12.97623167]\n",
      " [12.96003058 12.98830189]] --- Act { 0 1  }\n",
      "360\n",
      "[[12.88610673 12.88618396]\n",
      " [12.87816764 12.89590772]] --- Act { 1 1  }\n",
      "370\n",
      "[[13.01322816 12.92864698]\n",
      " [12.90016453 12.94350688]] --- Act { 0 1  }\n",
      "380\n",
      "[[13.07729398 12.99778124]\n",
      " [12.97194933 13.08114885]] --- Act { 0 1  }\n",
      "390\n",
      "[[13.05777185 13.03060667]\n",
      " [13.02779071 13.07044511]] --- Act { 0 1  }\n",
      "400\n",
      "[[13.11564983 13.05464157]\n",
      " [13.06277896 13.1642117 ]] --- Act { 0 1  }\n",
      "410\n",
      "[[13.19721501 13.10566823]\n",
      " [13.11256174 13.16363277]] --- Act { 0 1  }\n",
      "420\n",
      "[[13.15897815 13.12977328]\n",
      " [13.12717873 13.13381411]] --- Act { 0 1  }\n",
      "430\n",
      "[[13.08965842 13.09011601]\n",
      " [13.04086226 13.04002118]] --- Act { 1 0  }\n",
      "440\n",
      "[[12.99909415 12.99806846]\n",
      " [12.94283679 12.94337685]] --- Act { 0 1  }\n",
      "450\n",
      "[[12.91929166 12.91913698]\n",
      " [12.90046213 12.90568931]] --- Act { 0 1  }\n",
      "460\n",
      "[[13.08777059 12.9488386 ]\n",
      " [12.96505509 13.16939874]] --- Act { 0 1  }\n",
      "470\n",
      "[[13.18561664 13.01665469]\n",
      " [13.05114487 13.21392414]] --- Act { 0 1  }\n",
      "480\n",
      "[[13.26642141 13.08766206]\n",
      " [13.11467065 13.26466166]] --- Act { 0 1  }\n",
      "490\n",
      "[[13.33974275 13.14699282]\n",
      " [13.169027   13.33584669]] --- Act { 0 1  }\n",
      "500\n",
      "[[13.36799072 13.20677542]\n",
      " [13.22251106 13.3606523 ]] --- Act { 0 1  }\n",
      "510\n",
      "[[13.42847431 13.25728862]\n",
      " [13.2752764  13.43992749]] --- Act { 0 1  }\n",
      "520\n",
      "[[13.47051909 13.3058213 ]\n",
      " [13.3264967  13.48489595]] --- Act { 0 1  }\n",
      "530\n",
      "[[13.5221357  13.34540752]\n",
      " [13.36516773 13.51597793]] --- Act { 0 1  }\n",
      "540\n",
      "[[13.55778743 13.39099207]\n",
      " [13.399866   13.52779928]] --- Act { 0 1  }\n",
      "550\n",
      "[[13.59871106 13.42989868]\n",
      " [13.43603978 13.60643585]] --- Act { 0 1  }\n",
      "560\n",
      "[[13.63647177 13.47269946]\n",
      " [13.4648347  13.61942374]] --- Act { 0 1  }\n",
      "570\n",
      "[[13.62435919 13.49564969]\n",
      " [13.49392537 13.65042156]] --- Act { 0 1  }\n",
      "580\n",
      "[[13.61451838 13.51730209]\n",
      " [13.5154379  13.63521312]] --- Act { 0 1  }\n",
      "590\n",
      "[[13.65138305 13.53564878]\n",
      " [13.53736934 13.69077095]] --- Act { 0 1  }\n",
      "600\n",
      "[[13.68393565 13.55863631]\n",
      " [13.55496159 13.68876417]] --- Act { 0 1  }\n",
      "610\n",
      "[[13.71322206 13.58053044]\n",
      " [13.5733218  13.71107107]] --- Act { 0 1  }\n",
      "620\n",
      "[[13.72255595 13.59575465]\n",
      " [13.59218477 13.73818857]] --- Act { 0 1  }\n",
      "630\n",
      "[[13.71910795 13.61104593]\n",
      " [13.60915982 13.70657715]] --- Act { 0 1  }\n",
      "640\n",
      "[[13.71238022 13.62376869]\n",
      " [13.62314705 13.75309309]] --- Act { 0 1  }\n",
      "650\n",
      "[[13.72795821 13.63310137]\n",
      " [13.63409701 13.73534823]] --- Act { 0 1  }\n",
      "660\n",
      "[[13.73991284 13.64376952]\n",
      " [13.64337217 13.75035621]] --- Act { 0 1  }\n",
      "670\n",
      "[[13.76965412 13.65324526]\n",
      " [13.65592511 13.75789705]] --- Act { 0 1  }\n",
      "680\n",
      "[[13.77490996 13.66313811]\n",
      " [13.67040208 13.7725009 ]] --- Act { 0 1  }\n",
      "690\n",
      "[[13.79467822 13.67202533]\n",
      " [13.68021098 13.78614147]] --- Act { 0 1  }\n",
      "700\n",
      "[[13.77996696 13.67992924]\n",
      " [13.68976766 13.77918003]] --- Act { 0 1  }\n",
      "710\n",
      "[[13.76230342 13.68645517]\n",
      " [13.69623211 13.76559243]] --- Act { 0 1  }\n",
      "720\n",
      "[[13.78482742 13.69335805]\n",
      " [13.70223304 13.78308422]] --- Act { 0 1  }\n",
      "730\n",
      "[[13.77493351 13.7010054 ]\n",
      " [13.70814742 13.78097075]] --- Act { 0 1  }\n",
      "740\n",
      "[[13.78924302 13.70458938]\n",
      " [13.71348392 13.80251203]] --- Act { 0 1  }\n",
      "750\n",
      "[[13.83908115 13.71095258]\n",
      " [13.72018969 13.83998749]] --- Act { 0 1  }\n",
      "760\n",
      "[[13.82300485 13.71842344]\n",
      " [13.72684763 13.83434979]] --- Act { 0 1  }\n",
      "770\n",
      "[[13.83522866 13.72535667]\n",
      " [13.73140774 13.83685663]] --- Act { 0 1  }\n",
      "780\n",
      "[[13.8277567  13.7301573 ]\n",
      " [13.73628193 13.81672636]] --- Act { 0 1  }\n",
      "790\n",
      "[[13.80167413 13.73425185]\n",
      " [13.73960675 13.78986924]] --- Act { 0 1  }\n",
      "800\n",
      "[[13.80199442 13.73705475]\n",
      " [13.74212965 13.80889756]] --- Act { 0 1  }\n",
      "810\n",
      "[[13.80963761 13.73960764]\n",
      " [13.74520813 13.8152126 ]] --- Act { 0 1  }\n",
      "820\n",
      "[[13.81327675 13.74292187]\n",
      " [13.74851805 13.8222121 ]] --- Act { 0 1  }\n",
      "830\n",
      "[[13.83617403 13.74686252]\n",
      " [13.75296449 13.83507134]] --- Act { 0 1  }\n",
      "840\n",
      "[[13.84972876 13.75016214]\n",
      " [13.75639172 13.84489096]] --- Act { 0 1  }\n",
      "850\n",
      "[[13.86077456 13.7538662 ]\n",
      " [13.75917158 13.86924465]] --- Act { 0 1  }\n",
      "860\n",
      "[[13.83988367 13.75749865]\n",
      " [13.76155438 13.84749804]] --- Act { 0 1  }\n",
      "870\n",
      "[[13.84451251 13.75942576]\n",
      " [13.76288486 13.8384242 ]] --- Act { 0 1  }\n",
      "880\n",
      "[[13.8848006  13.7632405 ]\n",
      " [13.76567136 13.87273526]] --- Act { 0 1  }\n",
      "890\n",
      "[[13.91500876 13.76890168]\n",
      " [13.77016201 13.89858726]] --- Act { 0 1  }\n",
      "900\n",
      "[[13.96864793 13.77418705]\n",
      " [13.77450443 13.9351583 ]] --- Act { 0 1  }\n",
      "910\n",
      "[[13.94977407 13.77820509]\n",
      " [13.77755994 13.93623748]] --- Act { 0 1  }\n",
      "920\n",
      "[[13.96765304 13.78201592]\n",
      " [13.78123924 13.96890809]] --- Act { 0 1  }\n",
      "930\n",
      "[[13.99410963 13.78539009]\n",
      " [13.78543113 13.98883445]] --- Act { 0 1  }\n",
      "940\n",
      "[[13.99384018 13.7910764 ]\n",
      " [13.78810554 13.99314436]] --- Act { 0 1  }\n",
      "950\n",
      "[[14.01165483 13.79524048]\n",
      " [13.79052248 14.00642563]] --- Act { 0 1  }\n",
      "960\n",
      "[[14.00896806 13.79751   ]\n",
      " [13.79561063 13.99787477]] --- Act { 0 1  }\n",
      "970\n",
      "[[13.98635638 13.79996916]\n",
      " [13.79815616 13.9954771 ]] --- Act { 0 1  }\n",
      "980\n",
      "[[14.00575546 13.80272101]\n",
      " [13.80005748 13.99451035]] --- Act { 0 1  }\n",
      "990\n",
      "[[13.99643433 13.80592138]\n",
      " [13.80234407 13.98284651]] --- Act { 0 1  }\n"
     ]
    }
   ],
   "source": [
    "for ep in range(episodes):\n",
    "\n",
    "    alpha = alpha_0 / (alpha_0 + ep)\n",
    "    epsilon = epsilon_0 ** ep\n",
    "\n",
    "    pos_ = (np.random.rand(N,2) - 0.5) * L\n",
    "    phi_ = (np.random.rand(N)) * 2 * np.pi\n",
    "\n",
    "    for step in range(learning_steps):\n",
    "\n",
    "        grad_ = compute_concentration_gradient(pos_)\n",
    "        states_s0 = direction_gradient_cross_product(phi_ , grad_)\n",
    "\n",
    "        best = np.argmax(Q[states_s0] , axis = 1)\n",
    "        rand = np.random.rand(N)\n",
    "        a = np.where(rand < (1-epsilon) , best , np.random.randint(0,2,N))\n",
    "\n",
    "        ws = np.where(a==0 , -w0 , w0)\n",
    "\n",
    "        pos_ , phi_ = update_pos_phi_touching(pos_ , phi_ , ws)\n",
    "\n",
    "        states_s1 = direction_gradient_cross_product(phi_ , grad_)\n",
    "\n",
    "        reward = np.zeros(N)\n",
    "        for k in range(N):\n",
    "            for j in range(N):\n",
    "                if k != j:\n",
    "                    r_vec = pos_[k] - pos_[j]\n",
    "                    r = np.linalg.norm(r_vec)\n",
    "                    reward[k] += (np.exp(-r / 10) / (r + 1e-12)/(4 * np.pi))\n",
    "\n",
    "        q_matrix_max = Q[states_s1].max(axis = 1)\n",
    "\n",
    "        for i in range(N):\n",
    "            Q[states_s0[i] , a[i]] += alpha * (reward[i] + gamma * (q_matrix_max[i]) - Q[states_s0[i] , a[i]])\n",
    "\n",
    "    if ep%10 == 0:\n",
    "        print(ep)\n",
    "        print(Q , '---' , 'Act {' , Q[0].argmax() , Q[1].argmax() ,' }')"
   ]
  },
  {
   "cell_type": "code",
   "execution_count": 13,
   "metadata": {
    "colab": {
     "base_uri": "https://localhost:8080/"
    },
    "id": "dl4ZSvznwIox",
    "outputId": "08faaea3-ec7b-46a7-fa23-104d0024eec1"
   },
   "outputs": [
    {
     "data": {
      "text/plain": [
       "array([[13.99816115, 13.80726417],\n",
       "       [13.80444544, 13.98265994]])"
      ]
     },
     "execution_count": 13,
     "metadata": {},
     "output_type": "execute_result"
    }
   ],
   "source": [
    "Q"
   ]
  },
  {
   "cell_type": "code",
   "execution_count": 14,
   "metadata": {
    "id": "uD8XNiLCwLgK"
   },
   "outputs": [],
   "source": [
    "s1 = Q[0].argmax()\n",
    "s2 = Q[1].argmax()"
   ]
  },
  {
   "cell_type": "code",
   "execution_count": 15,
   "metadata": {
    "colab": {
     "base_uri": "https://localhost:8080/"
    },
    "id": "9gsgBvqWwNe2",
    "outputId": "1dfd050d-61f8-467c-84e7-9bdd3eea992f"
   },
   "outputs": [
    {
     "name": "stdout",
     "output_type": "stream",
     "text": [
      "State - 1 :  0\n",
      "State - 2 :  1\n"
     ]
    }
   ],
   "source": [
    "print('State - 1 : ' , s1)\n",
    "print('State - 2 : ' , s2)"
   ]
  },
  {
   "cell_type": "markdown",
   "metadata": {
    "id": "jNyN3Ko5wXEJ"
   },
   "source": [
    "# What does this say ?\n",
    "* if the grad is at left - turn left - (+w0)\n",
    "* if the grad is at right - turn right - (-w0)"
   ]
  },
  {
   "cell_type": "code",
   "execution_count": null,
   "metadata": {
    "id": "3iz4Fyt5wX0a"
   },
   "outputs": [],
   "source": []
  },
  {
   "cell_type": "code",
   "execution_count": null,
   "metadata": {
    "id": "qzLOS1iqy2C0"
   },
   "outputs": [],
   "source": []
  }
 ],
 "metadata": {
  "colab": {
   "provenance": []
  },
  "kernelspec": {
   "display_name": "Python 3 (ipykernel)",
   "language": "python",
   "name": "python3"
  },
  "language_info": {
   "codemirror_mode": {
    "name": "ipython",
    "version": 3
   },
   "file_extension": ".py",
   "mimetype": "text/x-python",
   "name": "python",
   "nbconvert_exporter": "python",
   "pygments_lexer": "ipython3",
   "version": "3.13.5"
  }
 },
 "nbformat": 4,
 "nbformat_minor": 4
}
