{
 "cells": [
  {
   "cell_type": "code",
   "execution_count": 1,
   "id": "1ec49e37-21b8-4314-a6a9-d3cb074826e8",
   "metadata": {},
   "outputs": [],
   "source": [
    "import numpy as np\n",
    "import matplotlib.pyplot as plt"
   ]
  },
  {
   "cell_type": "code",
   "execution_count": 2,
   "id": "ea7bb728-fff5-4ca6-9087-06f9530c2f5f",
   "metadata": {},
   "outputs": [],
   "source": [
    "tot_episodes = 1000\n",
    "learning_steps = 20\n",
    "time_steps = 10000\n",
    "epsilon_rate = 0.995\n",
    "gamma = 0.99\n",
    "alpha_0 = 0.8\n",
    "L = 50\n",
    "N = 150\n",
    "v0 = 20\n",
    "tot_states = 5\n",
    "tot_actions = 2\n",
    "a = 1.66\n",
    "pred_pos = np.array([0.0,0.0])\n",
    "D0 = 1\n",
    "tau_r = (1.10688**2/(3*D0))\n",
    "dt = 1.5e-5"
   ]
  },
  {
   "cell_type": "markdown",
   "id": "9d6622bc-5dfc-47e3-98c9-bdeb4e344e03",
   "metadata": {},
   "source": [
    "* 5 States in total\n",
    "* State 0 is near the predator and state 4 is farthest from the predator\n",
    "* Action :\n",
    "*     0 -> passive diffusion\n",
    "*     1 -> active diffusion"
   ]
  },
  {
   "cell_type": "code",
   "execution_count": null,
   "id": "4c8b7a43-e346-4b48-987f-aac4ec45e0d6",
   "metadata": {},
   "outputs": [],
   "source": []
  },
  {
   "cell_type": "code",
   "execution_count": 3,
   "id": "2d6e5298-ea41-417b-8460-0cbd90e96291",
   "metadata": {},
   "outputs": [],
   "source": [
    "bin_size = L/(2*tot_states)\n",
    "bin_ranges = np.linspace(0, L/2, tot_states+1)"
   ]
  },
  {
   "cell_type": "code",
   "execution_count": 4,
   "id": "523b4531-fac3-4f2d-95e4-0fa64f3c3e42",
   "metadata": {},
   "outputs": [],
   "source": [
    "def dist_to_state(r):\n",
    "    return np.minimum((r//bin_size).astype(int), tot_states-1)"
   ]
  },
  {
   "cell_type": "code",
   "execution_count": 5,
   "id": "808c8b1c-dc63-43d1-8049-3eb44b5c10cd",
   "metadata": {},
   "outputs": [],
   "source": [
    "Q_matrix = np.ones((tot_states , tot_actions))"
   ]
  },
  {
   "cell_type": "code",
   "execution_count": 6,
   "id": "ee56c613-5222-4f90-aebe-c27e9d7411d3",
   "metadata": {},
   "outputs": [
    {
     "data": {
      "text/plain": [
       "array([[1., 1.],\n",
       "       [1., 1.],\n",
       "       [1., 1.],\n",
       "       [1., 1.],\n",
       "       [1., 1.]])"
      ]
     },
     "execution_count": 6,
     "metadata": {},
     "output_type": "execute_result"
    }
   ],
   "source": [
    "Q_matrix"
   ]
  },
  {
   "cell_type": "code",
   "execution_count": 7,
   "id": "66010417-9b58-4bb0-b50c-113a37707296",
   "metadata": {},
   "outputs": [],
   "source": [
    "avg_rewards = np.zeros(tot_episodes)"
   ]
  },
  {
   "cell_type": "code",
   "execution_count": 8,
   "id": "cf2722a1-56e8-496c-b67d-37f2b5c5b2bf",
   "metadata": {
    "scrolled": true
   },
   "outputs": [
    {
     "name": "stdout",
     "output_type": "stream",
     "text": [
      "0\n",
      "10\n",
      "20\n",
      "30\n",
      "40\n",
      "50\n",
      "60\n",
      "70\n",
      "80\n",
      "90\n",
      "100\n",
      "110\n",
      "120\n",
      "130\n",
      "140\n",
      "150\n",
      "160\n",
      "170\n",
      "180\n",
      "190\n",
      "200\n",
      "210\n",
      "220\n",
      "230\n",
      "240\n",
      "250\n",
      "260\n",
      "270\n",
      "280\n",
      "290\n",
      "300\n",
      "310\n",
      "320\n",
      "330\n",
      "340\n",
      "350\n",
      "360\n",
      "370\n",
      "380\n",
      "390\n",
      "400\n",
      "410\n",
      "420\n",
      "430\n",
      "440\n",
      "450\n",
      "460\n",
      "470\n",
      "480\n",
      "490\n",
      "500\n",
      "510\n",
      "520\n",
      "530\n",
      "540\n",
      "550\n",
      "560\n",
      "570\n",
      "580\n",
      "590\n",
      "600\n",
      "610\n",
      "620\n",
      "630\n",
      "640\n",
      "650\n",
      "660\n",
      "670\n",
      "680\n",
      "690\n",
      "700\n",
      "710\n",
      "720\n",
      "730\n",
      "740\n",
      "750\n",
      "760\n",
      "770\n",
      "780\n",
      "790\n",
      "800\n",
      "810\n",
      "820\n",
      "830\n",
      "840\n",
      "850\n",
      "860\n",
      "870\n",
      "880\n",
      "890\n",
      "900\n",
      "910\n",
      "920\n",
      "930\n",
      "940\n",
      "950\n",
      "960\n",
      "970\n",
      "980\n",
      "990\n"
     ]
    }
   ],
   "source": [
    "for ep in range(tot_episodes):\n",
    "\n",
    "    eps = epsilon_rate**(ep)\n",
    "    alpha = alpha_0/(alpha_0 + ep)\n",
    "    \n",
    "    pos = (np.random.rand(N,2) - 0.5)*L\n",
    "    phi = np.random.rand(N) * 2*np.pi\n",
    "    \n",
    "    r = np.linalg.norm(pos, axis=1)\n",
    "    close_indices = np.where(r < a)[0]\n",
    "    n_reset = len(close_indices)\n",
    "        \n",
    "    while n_reset > 0:\n",
    "            \n",
    "        new_pos = (np.random.rand(n_reset, 2) - 0.5) * L\n",
    "\n",
    "        new_phi = np.random.rand(n_reset) * 2 * np.pi\n",
    "\n",
    "        pos[close_indices] = new_pos\n",
    "        phi[close_indices] = new_phi\n",
    "            \n",
    "        r = np.linalg.norm(pos, axis=1)\n",
    "            \n",
    "        close_indices = np.where(r < a)[0]\n",
    "\n",
    "        n_reset = len(close_indices)\n",
    "    \n",
    "    for step in range(learning_steps):\n",
    "        rel = pos - pred_pos\n",
    "        r = np.linalg.norm(rel,axis = 1)\n",
    "        s = dist_to_state(r)\n",
    "        \n",
    "        best = np.argmax(Q_matrix[s] , axis = 1)\n",
    "        rand = np.random.rand(N)\n",
    "        a = np.where(rand < (1-eps) , best , np.random.randint(0,tot_actions,N))\n",
    "        \n",
    "        for _ in range(time_steps):\n",
    "            \n",
    "            phi += np.sqrt(2*dt/tau_r)*np.random.randn(N)\n",
    "            \n",
    "            direction_vectors = np.vstack((np.cos(phi) , np.sin(phi))).T\n",
    "            \n",
    "            v = direction_vectors * a[:,None] * v0\n",
    "            \n",
    "            \n",
    "            pos += v*dt + np.sqrt(2*D0*dt)*np.random.randn(N,2)\n",
    "            pos = ((pos + L/2) % L) - L/2\n",
    "            \n",
    "            \n",
    "            r = np.linalg.norm(pos, axis=1)\n",
    "            close_indices = np.where(r < a)[0]\n",
    "            n_reset = len(close_indices)\n",
    "        \n",
    "            while n_reset > 0:\n",
    "            \n",
    "                new_pos = (np.random.rand(n_reset, 2) - 0.5) * L\n",
    "\n",
    "                new_phi = np.random.rand(n_reset) * 2 * np.pi\n",
    "\n",
    "                pos[close_indices] = new_pos\n",
    "                phi[close_indices] = new_phi\n",
    "            \n",
    "                r = np.linalg.norm(pos, axis=1)\n",
    "            \n",
    "                close_indices = np.where(r < a)[0]\n",
    "\n",
    "                n_reset = len(close_indices)\n",
    "        \n",
    "        rel = pos - pred_pos\n",
    "        r2 = np.sum(rel**2,axis = 1)\n",
    "        reward = r2.copy()\n",
    "\n",
    "        s2 = dist_to_state(np.sqrt(r2))\n",
    "        \n",
    "        q_next_max = Q_matrix[s2].max(axis = 1)\n",
    "        for i in range(N):\n",
    "            Q_matrix[s[i] , a[i]] += alpha*(reward[i] + gamma*(q_next_max[i]) - Q_matrix[s[i],a[i]])\n",
    "        \n",
    "    if ep%10 == 0:\n",
    "        print(ep)\n",
    "    avg_rewards[ep] = reward.mean()"
   ]
  },
  {
   "cell_type": "code",
   "execution_count": 9,
   "id": "571e3ded-d284-4eb9-84f1-fe8c88ab56be",
   "metadata": {},
   "outputs": [
    {
     "data": {
      "text/plain": [
       "array([[50142.56239554, 50478.20531291],\n",
       "       [50224.41728942, 50469.54698253],\n",
       "       [51979.4484728 , 52185.60337894],\n",
       "       [54380.91595989, 54597.62247261],\n",
       "       [55988.71238238, 55851.73566667]])"
      ]
     },
     "execution_count": 9,
     "metadata": {},
     "output_type": "execute_result"
    }
   ],
   "source": [
    "Q_matrix"
   ]
  },
  {
   "cell_type": "code",
   "execution_count": 12,
   "id": "36bfe2d0-4235-4c90-82da-0bac40eb04a5",
   "metadata": {},
   "outputs": [
    {
     "data": {
      "text/plain": [
       "Text(0, 0.5, 'Rewards')"
      ]
     },
     "execution_count": 12,
     "metadata": {},
     "output_type": "execute_result"
    },
    {
     "data": {
      "image/png": "[encoded data removed]",
      "text/plain": [
       "<Figure size 640x480 with 1 Axes>"
      ]
     },
     "metadata": {},
     "output_type": "display_data"
    }
   ],
   "source": [
    "plt.plot(range(1,tot_episodes+1) , avg_rewards)\n",
    "plt.xlabel('Episodes')\n",
    "plt.ylabel('Rewards')"
   ]
  },
  {
   "cell_type": "code",
   "execution_count": 13,
   "id": "c84b8d9f-ce22-4909-ada4-979355a312d1",
   "metadata": {},
   "outputs": [
    {
     "name": "stdout",
     "output_type": "stream",
     "text": [
      "State : 0 Action : Active\n",
      "State : 1 Action : Active\n",
      "State : 2 Action : Active\n",
      "State : 3 Action : Active\n",
      "State : 4 Action : Passive\n"
     ]
    }
   ],
   "source": [
    "i = 0\n",
    "for ele in Q_matrix:\n",
    "    if ele[0] > ele[1]:\n",
    "        print('State :' , i , 'Action :' , 'Passive')\n",
    "    else:\n",
    "        print('State :' , i , 'Action :' , 'Active')\n",
    "    i += 1"
   ]
  },
  {
   "cell_type": "code",
   "execution_count": null,
   "id": "1e231fdd",
   "metadata": {},
   "outputs": [],
   "source": []
  },
  {
   "cell_type": "code",
   "execution_count": null,
   "id": "3036dbd0",
   "metadata": {},
   "outputs": [],
   "source": []
  }
 ],
 "metadata": {
  "kernelspec": {
   "display_name": "Python 3 (ipykernel)",
   "language": "python",
   "name": "python3"
  },
  "language_info": {
   "codemirror_mode": {
    "name": "ipython",
    "version": 3
   },
   "file_extension": ".py",
   "mimetype": "text/x-python",
   "name": "python",
   "nbconvert_exporter": "python",
   "pygments_lexer": "ipython3",
   "version": "3.13.5"
  }
 },
 "nbformat": 4,
 "nbformat_minor": 5
}
